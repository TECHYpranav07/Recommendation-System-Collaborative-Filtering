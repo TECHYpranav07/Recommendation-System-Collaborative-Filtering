{
 "cells": [
  {
   "cell_type": "markdown",
   "id": "81ec3e61",
   "metadata": {},
   "source": [
    "# 🎯 Recommendation System using SVD (Collaborative Filtering)\n",
    "\n",
    "This notebook demonstrates a collaborative filtering approach using **Matrix Factorization** (SVD).\n",
    "\n",
    "**Dataset:** MovieLens 100k  \n",
    "**Evaluation Metrics:** RMSE, MAE"
   ]
  },
  {
   "cell_type": "code",
   "execution_count": 1,
   "id": "1a51391f",
   "metadata": {},
   "outputs": [
    {
     "name": "stdout",
     "output_type": "stream",
     "text": [
      "Defaulting to user installation because normal site-packages is not writeable\n",
      "Requirement already satisfied: scikit-surprise in c:\\users\\asus\\appdata\\roaming\\python\\python312\\site-packages (1.1.4)\n",
      "Requirement already satisfied: joblib>=1.2.0 in c:\\programdata\\anaconda3\\lib\\site-packages (from scikit-surprise) (1.4.2)\n",
      "Requirement already satisfied: numpy>=1.19.5 in c:\\programdata\\anaconda3\\lib\\site-packages (from scikit-surprise) (1.26.4)\n",
      "Requirement already satisfied: scipy>=1.6.0 in c:\\programdata\\anaconda3\\lib\\site-packages (from scikit-surprise) (1.13.1)\n"
     ]
    }
   ],
   "source": [
    "\n",
    "!pip install scikit-surprise"
   ]
  },
  {
   "cell_type": "code",
   "execution_count": 2,
   "id": "536cafd3",
   "metadata": {},
   "outputs": [],
   "source": [
    "from surprise import SVD, Dataset, Reader\n",
    "from surprise.model_selection import train_test_split\n",
    "from surprise.accuracy import rmse, mae\n",
    "import pandas as pd"
   ]
  },
  {
   "cell_type": "code",
   "execution_count": 4,
   "id": "3f510276",
   "metadata": {},
   "outputs": [],
   "source": [
    "\n",
    "data = Dataset.load_builtin('ml-100k')\n",
    "trainset, testset = train_test_split(data, test_size=0.2, random_state=42)"
   ]
  },
  {
   "cell_type": "code",
   "execution_count": 5,
   "id": "8fc4bbcc",
   "metadata": {},
   "outputs": [
    {
     "data": {
      "text/plain": [
       "<surprise.prediction_algorithms.matrix_factorization.SVD at 0x19d31050070>"
      ]
     },
     "execution_count": 5,
     "metadata": {},
     "output_type": "execute_result"
    }
   ],
   "source": [
    "\n",
    "model = SVD()\n",
    "model.fit(trainset)"
   ]
  },
  {
   "cell_type": "code",
   "execution_count": 6,
   "id": "7d755774",
   "metadata": {},
   "outputs": [],
   "source": [
    "\n",
    "predictions = model.test(testset)"
   ]
  },
  {
   "cell_type": "code",
   "execution_count": 7,
   "id": "5136a0ac",
   "metadata": {},
   "outputs": [
    {
     "name": "stdout",
     "output_type": "stream",
     "text": [
      "Evaluation Results:\n",
      "RMSE: 0.9389\n",
      "MAE:  0.7407\n"
     ]
    }
   ],
   "source": [
    "\n",
    "print(\"Evaluation Results:\")\n",
    "rmse_val = rmse(predictions)\n",
    "mae_val = mae(predictions)"
   ]
  },
  {
   "cell_type": "code",
   "execution_count": 8,
   "id": "c2a2899c",
   "metadata": {},
   "outputs": [],
   "source": [
    "\n",
    "from collections import defaultdict\n",
    "def get_top_n(predictions, n=5):\n",
    "    top_n = defaultdict(list)\n",
    "    for uid, iid, true_r, est, _ in predictions:\n",
    "        top_n[uid].append((iid, est))\n",
    "    for uid, user_ratings in top_n.items():\n",
    "        user_ratings.sort(key=lambda x: x[1], reverse=True)\n",
    "        top_n[uid] = user_ratings[:n]\n",
    "    return top_n\n",
    "\n",
    "top_n = get_top_n(predictions, n=5)"
   ]
  },
  {
   "cell_type": "code",
   "execution_count": 9,
   "id": "9470a27f",
   "metadata": {},
   "outputs": [
    {
     "name": "stdout",
     "output_type": "stream",
     "text": [
      "\n",
      "Top 5 movie recommendations for user 196:\n",
      "Movie ID: 173, Predicted Rating: 4.10\n",
      "Movie ID: 116, Predicted Rating: 4.06\n",
      "Movie ID: 153, Predicted Rating: 4.02\n",
      "Movie ID: 306, Predicted Rating: 4.00\n",
      "Movie ID: 286, Predicted Rating: 3.77\n"
     ]
    }
   ],
   "source": [
    "\n",
    "print(\"\\nTop 5 movie recommendations for user 196:\")\n",
    "for movie_id, score in top_n['196']:\n",
    "    print(f\"Movie ID: {movie_id}, Predicted Rating: {score:.2f}\")"
   ]
  },
  {
   "cell_type": "code",
   "execution_count": null,
   "id": "db0d1cef-60cb-46dc-85aa-e2e17394e528",
   "metadata": {},
   "outputs": [],
   "source": []
  }
 ],
 "metadata": {
  "kernelspec": {
   "display_name": "Python 3.10 (ML + GPU)",
   "language": "python",
   "name": "ml-gpu"
  },
  "language_info": {
   "codemirror_mode": {
    "name": "ipython",
    "version": 3
   },
   "file_extension": ".py",
   "mimetype": "text/x-python",
   "name": "python",
   "nbconvert_exporter": "python",
   "pygments_lexer": "ipython3",
   "version": "3.10.18"
  }
 },
 "nbformat": 4,
 "nbformat_minor": 5
}
